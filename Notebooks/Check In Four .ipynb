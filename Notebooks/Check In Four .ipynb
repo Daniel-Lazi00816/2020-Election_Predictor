{
 "cells": [
  {
   "cell_type": "code",
   "execution_count": 1,
   "metadata": {},
   "outputs": [],
   "source": [
    "import pandas as pd \n",
    "import numpy as np \n",
    "import matplotlib.pyplot as plt\n",
    "%matplotlib inline\n",
    "\n",
    "pd.options.display.max_columns = None\n",
    "pd.options.display.max_rows = None"
   ]
  },
  {
   "cell_type": "markdown",
   "metadata": {},
   "source": [
    "# Read in the Data and EDA"
   ]
  },
  {
   "cell_type": "code",
   "execution_count": 2,
   "metadata": {},
   "outputs": [
    {
     "name": "stderr",
     "output_type": "stream",
     "text": [
      "/Users/danielleo/opt/anaconda3/lib/python3.7/site-packages/IPython/core/interactiveshell.py:3058: DtypeWarning: Columns (19) have mixed types. Specify dtype option on import or set low_memory=False.\n",
      "  interactivity=interactivity, compiler=compiler, result=result)\n"
     ]
    },
    {
     "data": {
      "text/html": [
       "<div>\n",
       "<style scoped>\n",
       "    .dataframe tbody tr th:only-of-type {\n",
       "        vertical-align: middle;\n",
       "    }\n",
       "\n",
       "    .dataframe tbody tr th {\n",
       "        vertical-align: top;\n",
       "    }\n",
       "\n",
       "    .dataframe thead th {\n",
       "        text-align: right;\n",
       "    }\n",
       "</style>\n",
       "<table border=\"1\" class=\"dataframe\">\n",
       "  <thead>\n",
       "    <tr style=\"text-align: right;\">\n",
       "      <th></th>\n",
       "      <th>question_id</th>\n",
       "      <th>poll_id</th>\n",
       "      <th>cycle</th>\n",
       "      <th>state</th>\n",
       "      <th>pollster_id</th>\n",
       "      <th>pollster</th>\n",
       "      <th>sponsor_ids</th>\n",
       "      <th>sponsors</th>\n",
       "      <th>display_name</th>\n",
       "      <th>pollster_rating_id</th>\n",
       "      <th>pollster_rating_name</th>\n",
       "      <th>fte_grade</th>\n",
       "      <th>sample_size</th>\n",
       "      <th>population</th>\n",
       "      <th>population_full</th>\n",
       "      <th>methodology</th>\n",
       "      <th>office_type</th>\n",
       "      <th>start_date</th>\n",
       "      <th>end_date</th>\n",
       "      <th>sponsor_candidate</th>\n",
       "      <th>internal</th>\n",
       "      <th>partisan</th>\n",
       "      <th>tracking</th>\n",
       "      <th>nationwide_batch</th>\n",
       "      <th>created_at</th>\n",
       "      <th>notes</th>\n",
       "      <th>url</th>\n",
       "      <th>stage</th>\n",
       "      <th>party</th>\n",
       "      <th>answer</th>\n",
       "      <th>candidate_id</th>\n",
       "      <th>candidate_name</th>\n",
       "      <th>pct</th>\n",
       "    </tr>\n",
       "  </thead>\n",
       "  <tbody>\n",
       "    <tr>\n",
       "      <td>0</td>\n",
       "      <td>119723</td>\n",
       "      <td>64740</td>\n",
       "      <td>2020</td>\n",
       "      <td>Washington</td>\n",
       "      <td>460</td>\n",
       "      <td>SurveyUSA</td>\n",
       "      <td>840</td>\n",
       "      <td>KING TV (Seattle)</td>\n",
       "      <td>SurveyUSA</td>\n",
       "      <td>325.0</td>\n",
       "      <td>SurveyUSA</td>\n",
       "      <td>A</td>\n",
       "      <td>550</td>\n",
       "      <td>lv</td>\n",
       "      <td>lv-d</td>\n",
       "      <td>Online</td>\n",
       "      <td>U.S. President</td>\n",
       "      <td>3/4/20</td>\n",
       "      <td>3/6/20</td>\n",
       "      <td>NaN</td>\n",
       "      <td>False</td>\n",
       "      <td>NaN</td>\n",
       "      <td>False</td>\n",
       "      <td>False</td>\n",
       "      <td>3/6/20 15:48</td>\n",
       "      <td>NaN</td>\n",
       "      <td>https://www.king5.com/article/news/politics/el...</td>\n",
       "      <td>primary</td>\n",
       "      <td>DEM</td>\n",
       "      <td>Biden</td>\n",
       "      <td>13256</td>\n",
       "      <td>Joseph R. Biden Jr.</td>\n",
       "      <td>36.36</td>\n",
       "    </tr>\n",
       "    <tr>\n",
       "      <td>1</td>\n",
       "      <td>119723</td>\n",
       "      <td>64740</td>\n",
       "      <td>2020</td>\n",
       "      <td>Washington</td>\n",
       "      <td>460</td>\n",
       "      <td>SurveyUSA</td>\n",
       "      <td>840</td>\n",
       "      <td>KING TV (Seattle)</td>\n",
       "      <td>SurveyUSA</td>\n",
       "      <td>325.0</td>\n",
       "      <td>SurveyUSA</td>\n",
       "      <td>A</td>\n",
       "      <td>550</td>\n",
       "      <td>lv</td>\n",
       "      <td>lv-d</td>\n",
       "      <td>Online</td>\n",
       "      <td>U.S. President</td>\n",
       "      <td>3/4/20</td>\n",
       "      <td>3/6/20</td>\n",
       "      <td>NaN</td>\n",
       "      <td>False</td>\n",
       "      <td>NaN</td>\n",
       "      <td>False</td>\n",
       "      <td>False</td>\n",
       "      <td>3/6/20 15:48</td>\n",
       "      <td>NaN</td>\n",
       "      <td>https://www.king5.com/article/news/politics/el...</td>\n",
       "      <td>primary</td>\n",
       "      <td>DEM</td>\n",
       "      <td>Sanders</td>\n",
       "      <td>13257</td>\n",
       "      <td>Bernard Sanders</td>\n",
       "      <td>35.35</td>\n",
       "    </tr>\n",
       "    <tr>\n",
       "      <td>2</td>\n",
       "      <td>119723</td>\n",
       "      <td>64740</td>\n",
       "      <td>2020</td>\n",
       "      <td>Washington</td>\n",
       "      <td>460</td>\n",
       "      <td>SurveyUSA</td>\n",
       "      <td>840</td>\n",
       "      <td>KING TV (Seattle)</td>\n",
       "      <td>SurveyUSA</td>\n",
       "      <td>325.0</td>\n",
       "      <td>SurveyUSA</td>\n",
       "      <td>A</td>\n",
       "      <td>550</td>\n",
       "      <td>lv</td>\n",
       "      <td>lv-d</td>\n",
       "      <td>Online</td>\n",
       "      <td>U.S. President</td>\n",
       "      <td>3/4/20</td>\n",
       "      <td>3/6/20</td>\n",
       "      <td>NaN</td>\n",
       "      <td>False</td>\n",
       "      <td>NaN</td>\n",
       "      <td>False</td>\n",
       "      <td>False</td>\n",
       "      <td>3/6/20 15:48</td>\n",
       "      <td>NaN</td>\n",
       "      <td>https://www.king5.com/article/news/politics/el...</td>\n",
       "      <td>primary</td>\n",
       "      <td>DEM</td>\n",
       "      <td>Warren</td>\n",
       "      <td>13258</td>\n",
       "      <td>Elizabeth Warren</td>\n",
       "      <td>10.10</td>\n",
       "    </tr>\n",
       "    <tr>\n",
       "      <td>3</td>\n",
       "      <td>119720</td>\n",
       "      <td>64737</td>\n",
       "      <td>2020</td>\n",
       "      <td>NaN</td>\n",
       "      <td>1189</td>\n",
       "      <td>Morning Consult</td>\n",
       "      <td>NaN</td>\n",
       "      <td>NaN</td>\n",
       "      <td>Morning Consult</td>\n",
       "      <td>218.0</td>\n",
       "      <td>Morning Consult</td>\n",
       "      <td>B/C</td>\n",
       "      <td>1390</td>\n",
       "      <td>lv</td>\n",
       "      <td>lv-d</td>\n",
       "      <td>Online</td>\n",
       "      <td>U.S. President</td>\n",
       "      <td>3/5/20</td>\n",
       "      <td>3/5/20</td>\n",
       "      <td>NaN</td>\n",
       "      <td>False</td>\n",
       "      <td>NaN</td>\n",
       "      <td>False</td>\n",
       "      <td>False</td>\n",
       "      <td>3/6/20 13:00</td>\n",
       "      <td>NaN</td>\n",
       "      <td>https://morningconsult.com/2020/03/06/democrat...</td>\n",
       "      <td>primary</td>\n",
       "      <td>DEM</td>\n",
       "      <td>Biden</td>\n",
       "      <td>13256</td>\n",
       "      <td>Joseph R. Biden Jr.</td>\n",
       "      <td>54.00</td>\n",
       "    </tr>\n",
       "    <tr>\n",
       "      <td>4</td>\n",
       "      <td>119720</td>\n",
       "      <td>64737</td>\n",
       "      <td>2020</td>\n",
       "      <td>NaN</td>\n",
       "      <td>1189</td>\n",
       "      <td>Morning Consult</td>\n",
       "      <td>NaN</td>\n",
       "      <td>NaN</td>\n",
       "      <td>Morning Consult</td>\n",
       "      <td>218.0</td>\n",
       "      <td>Morning Consult</td>\n",
       "      <td>B/C</td>\n",
       "      <td>1390</td>\n",
       "      <td>lv</td>\n",
       "      <td>lv-d</td>\n",
       "      <td>Online</td>\n",
       "      <td>U.S. President</td>\n",
       "      <td>3/5/20</td>\n",
       "      <td>3/5/20</td>\n",
       "      <td>NaN</td>\n",
       "      <td>False</td>\n",
       "      <td>NaN</td>\n",
       "      <td>False</td>\n",
       "      <td>False</td>\n",
       "      <td>3/6/20 13:00</td>\n",
       "      <td>NaN</td>\n",
       "      <td>https://morningconsult.com/2020/03/06/democrat...</td>\n",
       "      <td>primary</td>\n",
       "      <td>DEM</td>\n",
       "      <td>Sanders</td>\n",
       "      <td>13257</td>\n",
       "      <td>Bernard Sanders</td>\n",
       "      <td>38.00</td>\n",
       "    </tr>\n",
       "  </tbody>\n",
       "</table>\n",
       "</div>"
      ],
      "text/plain": [
       "   question_id  poll_id  cycle       state  pollster_id         pollster  \\\n",
       "0       119723    64740   2020  Washington          460        SurveyUSA   \n",
       "1       119723    64740   2020  Washington          460        SurveyUSA   \n",
       "2       119723    64740   2020  Washington          460        SurveyUSA   \n",
       "3       119720    64737   2020         NaN         1189  Morning Consult   \n",
       "4       119720    64737   2020         NaN         1189  Morning Consult   \n",
       "\n",
       "  sponsor_ids           sponsors     display_name  pollster_rating_id  \\\n",
       "0         840  KING TV (Seattle)        SurveyUSA               325.0   \n",
       "1         840  KING TV (Seattle)        SurveyUSA               325.0   \n",
       "2         840  KING TV (Seattle)        SurveyUSA               325.0   \n",
       "3         NaN                NaN  Morning Consult               218.0   \n",
       "4         NaN                NaN  Morning Consult               218.0   \n",
       "\n",
       "  pollster_rating_name fte_grade  sample_size population population_full  \\\n",
       "0            SurveyUSA         A          550         lv            lv-d   \n",
       "1            SurveyUSA         A          550         lv            lv-d   \n",
       "2            SurveyUSA         A          550         lv            lv-d   \n",
       "3      Morning Consult       B/C         1390         lv            lv-d   \n",
       "4      Morning Consult       B/C         1390         lv            lv-d   \n",
       "\n",
       "  methodology     office_type start_date end_date sponsor_candidate  internal  \\\n",
       "0      Online  U.S. President     3/4/20   3/6/20               NaN     False   \n",
       "1      Online  U.S. President     3/4/20   3/6/20               NaN     False   \n",
       "2      Online  U.S. President     3/4/20   3/6/20               NaN     False   \n",
       "3      Online  U.S. President     3/5/20   3/5/20               NaN     False   \n",
       "4      Online  U.S. President     3/5/20   3/5/20               NaN     False   \n",
       "\n",
       "  partisan  tracking  nationwide_batch    created_at notes  \\\n",
       "0      NaN     False             False  3/6/20 15:48   NaN   \n",
       "1      NaN     False             False  3/6/20 15:48   NaN   \n",
       "2      NaN     False             False  3/6/20 15:48   NaN   \n",
       "3      NaN     False             False  3/6/20 13:00   NaN   \n",
       "4      NaN     False             False  3/6/20 13:00   NaN   \n",
       "\n",
       "                                                 url    stage party   answer  \\\n",
       "0  https://www.king5.com/article/news/politics/el...  primary   DEM    Biden   \n",
       "1  https://www.king5.com/article/news/politics/el...  primary   DEM  Sanders   \n",
       "2  https://www.king5.com/article/news/politics/el...  primary   DEM   Warren   \n",
       "3  https://morningconsult.com/2020/03/06/democrat...  primary   DEM    Biden   \n",
       "4  https://morningconsult.com/2020/03/06/democrat...  primary   DEM  Sanders   \n",
       "\n",
       "   candidate_id       candidate_name    pct  \n",
       "0         13256  Joseph R. Biden Jr.  36.36  \n",
       "1         13257      Bernard Sanders  35.35  \n",
       "2         13258     Elizabeth Warren  10.10  \n",
       "3         13256  Joseph R. Biden Jr.  54.00  \n",
       "4         13257      Bernard Sanders  38.00  "
      ]
     },
     "execution_count": 2,
     "metadata": {},
     "output_type": "execute_result"
    }
   ],
   "source": [
    "#Let's first take a look at what polls we have available. \n",
    "df_polls = pd.read_csv('../Datasets/president_primary_polls (3).csv')\n",
    "df_polls.head()"
   ]
  },
  {
   "cell_type": "code",
   "execution_count": 3,
   "metadata": {},
   "outputs": [
    {
     "data": {
      "text/plain": [
       "(18330, 33)"
      ]
     },
     "execution_count": 3,
     "metadata": {},
     "output_type": "execute_result"
    }
   ],
   "source": [
    "df_polls.shape"
   ]
  },
  {
   "cell_type": "code",
   "execution_count": 4,
   "metadata": {},
   "outputs": [
    {
     "data": {
      "text/plain": [
       "U.S. President    18330\n",
       "Name: office_type, dtype: int64"
      ]
     },
     "execution_count": 4,
     "metadata": {},
     "output_type": "execute_result"
    }
   ],
   "source": [
    "df_polls['office_type'].value_counts()"
   ]
  },
  {
   "cell_type": "code",
   "execution_count": 5,
   "metadata": {},
   "outputs": [
    {
     "data": {
      "text/plain": [
       "Sanders    1176\n",
       "Biden      1172\n",
       "Name: answer, dtype: int64"
      ]
     },
     "execution_count": 5,
     "metadata": {},
     "output_type": "execute_result"
    }
   ],
   "source": [
    "candidates = ['Biden', 'Sanders']\n",
    "df_polls = df_polls[df_polls.answer.isin(candidates)]\n",
    "df_polls['answer'].value_counts()"
   ]
  },
  {
   "cell_type": "code",
   "execution_count": 6,
   "metadata": {},
   "outputs": [],
   "source": [
    "polls_sanders = df_polls[df_polls['answer']=='Sanders']\n",
    "polls_biden = df_polls[df_polls['answer']=='Biden']"
   ]
  },
  {
   "cell_type": "code",
   "execution_count": 7,
   "metadata": {},
   "outputs": [
    {
     "data": {
      "text/plain": [
       "(1176, 33)"
      ]
     },
     "execution_count": 7,
     "metadata": {},
     "output_type": "execute_result"
    }
   ],
   "source": [
    "polls_sanders.shape"
   ]
  },
  {
   "cell_type": "code",
   "execution_count": 9,
   "metadata": {
    "collapsed": true
   },
   "outputs": [
    {
     "data": {
      "text/plain": [
       "count    1176.000000\n",
       "mean       20.334294\n",
       "std         8.293275\n",
       "min         0.000000\n",
       "25%        15.000000\n",
       "50%        18.500000\n",
       "75%        24.000000\n",
       "max        57.200000\n",
       "Name: pct, dtype: float64"
      ]
     },
     "execution_count": 9,
     "metadata": {},
     "output_type": "execute_result"
    }
   ],
   "source": [
    "polls_sanders.pct.describe()"
   ]
  },
  {
   "cell_type": "code",
   "execution_count": 10,
   "metadata": {
    "collapsed": true
   },
   "outputs": [
    {
     "data": {
      "text/plain": [
       "count    1172.000000\n",
       "mean       27.836049\n",
       "std         9.693438\n",
       "min         0.000000\n",
       "25%        22.000000\n",
       "50%        27.550000\n",
       "75%        33.000000\n",
       "max        71.000000\n",
       "Name: pct, dtype: float64"
      ]
     },
     "execution_count": 10,
     "metadata": {},
     "output_type": "execute_result"
    }
   ],
   "source": [
    "polls_biden.pct.describe()"
   ]
  },
  {
   "cell_type": "code",
   "execution_count": 11,
   "metadata": {},
   "outputs": [],
   "source": [
    "#Let's take a look at what states are being polled the most, than save this series as a variable for \n",
    "#A visual representation. \n",
    "polling_frequency = df_polls['state'].value_counts()"
   ]
  },
  {
   "cell_type": "code",
   "execution_count": 12,
   "metadata": {
    "collapsed": true
   },
   "outputs": [
    {
     "data": {
      "image/png": "[encoded data removed]",
      "text/plain": [
       "<Figure size 1440x720 with 1 Axes>"
      ]
     },
     "metadata": {
      "needs_background": "light"
     },
     "output_type": "display_data"
    }
   ],
   "source": [
    "polling_frequency.plot.bar(figsize = (20,10))\n",
    "plt.xlabel('States', fontsize=15)\n",
    "plt.ylabel('Polls Conducted', fontsize=15)\n",
    "plt.xticks(fontsize=14)\n",
    "plt.yticks(fontsize=14)\n",
    "plt.title('538 Presidential Polls By State', fontsize=20);\n",
    "#So up to this point we see a vast seperation in polling between states\n",
    "#I wouldn't say the correlation of polling to a state being a tossup is one but certainly we expect\n",
    "#States which we know the presidential outcome, i.e Arkansas, to have a few amount of polls conducted \n",
    "#Versus a state like New Hampshire which does have a chance to flip on election night"
   ]
  },
  {
   "cell_type": "code",
   "execution_count": 13,
   "metadata": {
    "collapsed": true
   },
   "outputs": [
    {
     "data": {
      "text/plain": [
       "question_id               int64\n",
       "poll_id                   int64\n",
       "cycle                     int64\n",
       "state                    object\n",
       "pollster_id               int64\n",
       "pollster                 object\n",
       "sponsor_ids              object\n",
       "sponsors                 object\n",
       "display_name             object\n",
       "pollster_rating_id      float64\n",
       "pollster_rating_name     object\n",
       "fte_grade                object\n",
       "sample_size               int64\n",
       "population               object\n",
       "population_full          object\n",
       "methodology              object\n",
       "office_type              object\n",
       "start_date               object\n",
       "end_date                 object\n",
       "sponsor_candidate        object\n",
       "internal                   bool\n",
       "partisan                 object\n",
       "tracking                   bool\n",
       "nationwide_batch           bool\n",
       "created_at               object\n",
       "notes                    object\n",
       "url                      object\n",
       "stage                    object\n",
       "party                    object\n",
       "answer                   object\n",
       "candidate_id              int64\n",
       "candidate_name           object\n",
       "pct                     float64\n",
       "dtype: object"
      ]
     },
     "execution_count": 13,
     "metadata": {},
     "output_type": "execute_result"
    }
   ],
   "source": [
    "#None of our date columns are of the date time type, let's change that. \n",
    "df_polls.dtypes"
   ]
  },
  {
   "cell_type": "code",
   "execution_count": 14,
   "metadata": {},
   "outputs": [],
   "source": [
    "df_polls['start_date'] = df_polls['start_date'].astype('datetime64[ns]')\n",
    "df_polls['end_date'] = df_polls['end_date'].astype('datetime64[ns]')"
   ]
  },
  {
   "cell_type": "code",
   "execution_count": 15,
   "metadata": {},
   "outputs": [
    {
     "data": {
      "text/plain": [
       "count                    2348\n",
       "unique                    340\n",
       "top       2020-03-01 00:00:00\n",
       "freq                       42\n",
       "first     2018-11-05 00:00:00\n",
       "last      2020-03-05 00:00:00\n",
       "Name: start_date, dtype: object"
      ]
     },
     "execution_count": 15,
     "metadata": {},
     "output_type": "execute_result"
    }
   ],
   "source": [
    "df_polls['start_date'].describe()"
   ]
  },
  {
   "cell_type": "markdown",
   "metadata": {},
   "source": [
    "# Which polls provide the most value?\n",
    "\n",
    "The great, and the ubiqioutously read 538 is generous to junior practioners such as myself by providing a pollster rating metric. However, many of the polls within this data set come from time periods in which the race for the Democratic nomination and Presidential race were defined by different topics and stories. To note for this change over time let's assign exponentially decaying weights to each poll.\n",
    "\n",
    "I got this idea from ... \n",
    "http://blog.yhat.com/posts/predicting-the-presidential-election.html"
   ]
  },
  {
   "cell_type": "code",
   "execution_count": null,
   "metadata": {},
   "outputs": [],
   "source": [
    "def weight(i):\n",
    "    np.exp(i)*i/np.exp(i)"
   ]
  },
  {
   "cell_type": "code",
   "execution_count": null,
   "metadata": {},
   "outputs": [],
   "source": [
    "states = [\"Maine\",\"New Hampshire\",\"Pennsylvania\",\"Ohio\",\"Michigan\",\"Wisconsin\",\n",
    "          \"Minnesota\",\"Iowa\",\"Colorado\",\"Nevada\",\"Arizona\",\n",
    "          \"Virginia\",\"North Carolina\",\"Georgia\",\"Florida\"]\n",
    "\n",
    "votes = [4,4,20,18,16,10,10,6,9,6,11,13,15,16,29]\n",
    "#Clinton has 187, Trump has 164 in remaining states\n",
    "corr = np.zeros((15,15))\n",
    "\n",
    "\n",
    "#From second link above\n",
    "corr[0,] = (0,0.58,0.46,0.61,0.61,0.63,0.57,0.63,0.56,0.53,0.56,0.44,0.43,0.37,0.55)\n",
    "corr[1,] = (0,0,0.53,0.63,0.64,0.69,0.64,0.7,0.71,0.57,0.64,0.57,0.46,0.39,0.62)\n",
    "corr[2,] = (0,0,0,0.64,0.61,0.62,0.72,0.56,0.61,0.48,0.64,0.57,0.46,0.39,0.62)\n",
    "corr[3,] = (0,0,0,0,.9,.86,.81,.84,.57,.67,.65,.48,.59,.53,.62)\n",
    "corr[4,] = (0,0,0,0,0,0.86,0.79,0.83,0.57,0.68,0.67,0.46,0.55,0.51,0.65)\n",
    "corr[5,] = (0,0,0,0,0,0,0.8,0.84,0.63,0.66,0.66,0.5,0.51,0.45,0.66)\n",
    "corr[6,] = (0,0,0,0,0,0,0,0.78,0.66,0.55,0.58,0.6,0.57,0.49,0.56)\n",
    "corr[7,] = (0,0,0,0,0,0,0,0,0.67,0.65,0.67,0.53,0.53,0.54,0.66)\n",
    "corr[8,] = (0,0,0,0,0,0,0,0,0,0.62,0.76,0.76,0.57,0.52,0.63)\n",
    "corr[9,] = (0,0,0,0,0,0,0,0,0,0,0.8,0.43,0.46,0.49,0.64)\n",
    "corr[10,] = (0,0,0,0,0,0,0,0,0,0,0,0.55,0.50,0.52,0.66)\n",
    "corr[11,] = (0,0,0,0,0,0,0,0,0,0,0,0,0.77,0.73,0.67)\n",
    "corr[12,] = (0,0,0,0,0,0,0,0,0,0,0,0,0,0.81,0.64)\n",
    "corr[13,] = (0,0,0,0,0,0,0,0,0,0,0,0,0,0,0.61)\n",
    "\n",
    "statescorr = []\n",
    "\n",
    "#Building correlation matrix between states\n",
    "statescorr = corr + np.matrix.transpose(corr) + np.identity(15)\n",
    "\n",
    "#Calculation Std Dev of each states polls    \n",
    "#statestd = [] \n",
    "#for s in states:\n",
    "#    pollstd = []\n",
    "#    pollstd = (df_polls[\"state\"] == s)\n",
    "#    statestd.append(np.std(df_polls[pollstd].adjpoll_clinton))\n",
    "\n",
    "#Make a convariance matrix from the correlation matrix  \n",
    "#statecov = statescorr\n",
    "#for i in range(len(states)):\n",
    "#    for j in range(len(states)):\n",
    "#        statecov[i,j] = statescorr[i,j] * statestd[i] * statestd[j]"
   ]
  },
  {
   "cell_type": "code",
   "execution_count": null,
   "metadata": {},
   "outputs": [],
   "source": [
    "np.identity(15) + "
   ]
  },
  {
   "cell_type": "code",
   "execution_count": null,
   "metadata": {},
   "outputs": [],
   "source": [
    "corr = np.zeros((15,15))\n",
    "corr[0,] = (0,0.58,0.46,0.61,0.61,0.63,0.57,0.63,0.56,0.53,0.56,0.44,0.43,0.37,0.55)\n",
    "corr[1,] = (0,0,0.53,0.63,0.64,0.69,0.64,0.7,0.71,0.57,0.64,0.57,0.46,0.39,0.62)\n",
    "corr[2,] = (0,0,0,0.64,0.61,0.62,0.72,0.56,0.61,0.48,0.64,0.57,0.46,0.39,0.62)\n",
    "corr[3,] = (0,0,0,0,.9,.86,.81,.84,.57,.67,.65,.48,.59,.53,.62)\n",
    "corr[4,] = (0,0,0,0,0,0.86,0.79,0.83,0.57,0.68,0.67,0.46,0.55,0.51,0.65)\n",
    "corr[5,] = (0,0,0,0,0,0,0.8,0.84,0.63,0.66,0.66,0.5,0.51,0.45,0.66)\n",
    "corr[6,] = (0,0,0,0,0,0,0,0.78,0.66,0.55,0.58,0.6,0.57,0.49,0.56)\n",
    "corr[7,] = (0,0,0,0,0,0,0,0,0.67,0.65,0.67,0.53,0.53,0.54,0.66)\n",
    "corr[8,] = (0,0,0,0,0,0,0,0,0,0.62,0.76,0.76,0.57,0.52,0.63)\n",
    "corr[9,] = (0,0,0,0,0,0,0,0,0,0,0.8,0.43,0.46,0.49,0.64)\n",
    "corr[10,] = (0,0,0,0,0,0,0,0,0,0,0,0.55,0.50,0.52,0.66)\n",
    "corr[11,] = (0,0,0,0,0,0,0,0,0,0,0,0,0.77,0.73,0.67)\n",
    "corr[12,] = (0,0,0,0,0,0,0,0,0,0,0,0,0,0.81,0.64)\n",
    "corr[13,] = (0,0,0,0,0,0,0,0,0,0,0,0,0,0,0.61)\n"
   ]
  },
  {
   "cell_type": "code",
   "execution_count": null,
   "metadata": {},
   "outputs": [],
   "source": [
    "corr"
   ]
  },
  {
   "cell_type": "code",
   "execution_count": null,
   "metadata": {},
   "outputs": [],
   "source": [
    "statescorr = corr + np.matrix.transpose(corr) + np.identity(15)"
   ]
  },
  {
   "cell_type": "code",
   "execution_count": null,
   "metadata": {},
   "outputs": [],
   "source": [
    "statescorr"
   ]
  },
  {
   "cell_type": "code",
   "execution_count": null,
   "metadata": {},
   "outputs": [],
   "source": []
  }
 ],
 "metadata": {
  "kernelspec": {
   "display_name": "Python 3",
   "language": "python",
   "name": "python3"
  },
  "language_info": {
   "codemirror_mode": {
    "name": "ipython",
    "version": 3
   },
   "file_extension": ".py",
   "mimetype": "text/x-python",
   "name": "python",
   "nbconvert_exporter": "python",
   "pygments_lexer": "ipython3",
   "version": "3.7.4"
  }
 },
 "nbformat": 4,
 "nbformat_minor": 2
}
